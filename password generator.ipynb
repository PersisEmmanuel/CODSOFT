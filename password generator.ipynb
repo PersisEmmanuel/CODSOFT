{
 "cells": [
  {
   "cell_type": "markdown",
   "id": "55731fe4",
   "metadata": {},
   "source": [
    "A password generator is a useful tool that generates strong and random passwords for users. This project aims to create a password generator application using Python, allowing users to specify the length and complexity of the password. \n",
    "User input: prompt the user to specify the desired length of the password. \n",
    "Generate password: use a combination of random characters to generate a password of the specific length. \n",
    "Display the password: print the generated password in the screen"
   ]
  },
  {
   "cell_type": "code",
   "execution_count": 1,
   "id": "1bc0b54a",
   "metadata": {},
   "outputs": [
    {
     "name": "stdout",
     "output_type": "stream",
     "text": [
      "Enter the desired password length: 10\n",
      "Enter complexity level (1 for letters, 2 for letters and numbers, 3 for letters, numbers, and special characters): 3\n",
      "Generated Password: uw%\\&kH[e4\n"
     ]
    }
   ],
   "source": [
    "import random\n",
    "import string\n",
    "\n",
    "def generate_password(length, complexity):\n",
    "    if complexity == \"1\":\n",
    "        characters = string.ascii_letters\n",
    "    elif complexity == \"2\":\n",
    "        characters = string.ascii_letters + string.digits\n",
    "    elif complexity == \"3\":\n",
    "        characters = string.ascii_letters + string.digits + string.punctuation\n",
    "    else:\n",
    "        return \"Invalid complexity choice.\"\n",
    "\n",
    "    password = ''.join(random.choice(characters) for _ in range(length))\n",
    "    return password\n",
    "\n",
    "try:\n",
    "    length = int(input(\"Enter the desired password length: \"))\n",
    "    complexity = input(\"Enter complexity level (1 for letters, 2 for letters and numbers, 3 for letters, numbers, and special characters): \")\n",
    "\n",
    "    password = generate_password(length, complexity)\n",
    "    print(f\"Generated Password: {password}\")\n",
    "except ValueError:\n",
    "    print(\"Invalid input. Please enter a valid password length as a number.\")"
   ]
  },
  {
   "cell_type": "code",
   "execution_count": null,
   "id": "d5c80e8a",
   "metadata": {},
   "outputs": [],
   "source": []
  }
 ],
 "metadata": {
  "kernelspec": {
   "display_name": "Python 3 (ipykernel)",
   "language": "python",
   "name": "python3"
  },
  "language_info": {
   "codemirror_mode": {
    "name": "ipython",
    "version": 3
   },
   "file_extension": ".py",
   "mimetype": "text/x-python",
   "name": "python",
   "nbconvert_exporter": "python",
   "pygments_lexer": "ipython3",
   "version": "3.10.9"
  }
 },
 "nbformat": 4,
 "nbformat_minor": 5
}
