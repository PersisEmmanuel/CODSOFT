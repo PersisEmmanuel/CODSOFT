{
 "cells": [
  {
   "cell_type": "markdown",
   "id": "aea038b4",
   "metadata": {},
   "source": [
    "A to-do list application is a useful project that helps users manage and organize their tasks efficiently. This project aims to Create a Command-line or GUI-based application using Python, allowing users to create, update, and track their to-do lists."
   ]
  },
  {
   "cell_type": "code",
   "execution_count": 1,
   "id": "aaecd999",
   "metadata": {},
   "outputs": [
    {
     "name": "stdout",
     "output_type": "stream",
     "text": [
      "\n",
      "Options:\n",
      "1. Add Task\n",
      "2. View Tasks\n",
      "3. Complete Task\n",
      "4. Quit\n",
      "Enter your choice: 1\n",
      "Enter the task: attend a zoom meeting @ 3pm\n",
      "Task 'attend a zoom meeting @ 3pm' added.\n",
      "\n",
      "Options:\n",
      "1. Add Task\n",
      "2. View Tasks\n",
      "3. Complete Task\n",
      "4. Quit\n",
      "Enter your choice: 2\n",
      "Tasks:\n",
      "1. attend a zoom meeting @ 3pm\n",
      "\n",
      "Options:\n",
      "1. Add Task\n",
      "2. View Tasks\n",
      "3. Complete Task\n",
      "4. Quit\n",
      "Enter your choice: 3\n",
      "Tasks:\n",
      "1. attend a zoom meeting @ 3pm\n",
      "Enter the task number to mark as completed: 1\n",
      "Task 'attend a zoom meeting @ 3pm' marked as completed.\n",
      "\n",
      "Options:\n",
      "1. Add Task\n",
      "2. View Tasks\n",
      "3. Complete Task\n",
      "4. Quit\n",
      "Enter your choice: 4\n"
     ]
    }
   ],
   "source": [
    "tasks = []\n",
    "def add_task(task):\n",
    "    tasks.append(task)\n",
    "    print(f\"Task '{task}' added.\")\n",
    "    \n",
    "def view_tasks():\n",
    "    if not tasks:\n",
    "        print(\"No tasks yet.\")\n",
    "    else:\n",
    "        print(\"Tasks:\")\n",
    "        for i, task in enumerate(tasks, 1):\n",
    "            print(f\"{i}. {task}\")\n",
    "\n",
    "def complete_task(task_index):\n",
    "    if 1 <= task_index <= len(tasks):\n",
    "        completed_task = tasks.pop(task_index - 1)\n",
    "        print(f\"Task '{completed_task}' marked as completed.\")\n",
    "    else:\n",
    "        print(\"Invalid task index.\")\n",
    "\n",
    "while True:\n",
    "    print(\"\\nOptions:\")\n",
    "    print(\"1. Add Task\")\n",
    "    print(\"2. View Tasks\")\n",
    "    print(\"3. Complete Task\")\n",
    "    print(\"4. Quit\")\n",
    "\n",
    "    choice = input(\"Enter your choice: \")\n",
    "\n",
    "    if choice == '1':\n",
    "        task = input(\"Enter the task: \")\n",
    "        add_task(task)\n",
    "    elif choice == '2':\n",
    "        view_tasks()\n",
    "    elif choice == '3':\n",
    "        view_tasks()\n",
    "        task_index = int(input(\"Enter the task number to mark as completed: \"))\n",
    "        complete_task(task_index)\n",
    "    elif choice == '4':\n",
    "        break\n",
    "    else:\n",
    "        print(\"Invalid choice. Please choose a valid option.\")"
   ]
  }
 ],
 "metadata": {
  "kernelspec": {
   "display_name": "Python 3 (ipykernel)",
   "language": "python",
   "name": "python3"
  },
  "language_info": {
   "codemirror_mode": {
    "name": "ipython",
    "version": 3
   },
   "file_extension": ".py",
   "mimetype": "text/x-python",
   "name": "python",
   "nbconvert_exporter": "python",
   "pygments_lexer": "ipython3",
   "version": "3.10.9"
  }
 },
 "nbformat": 4,
 "nbformat_minor": 5
}
